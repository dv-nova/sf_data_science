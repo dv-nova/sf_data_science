{
 "cells": [
  {
   "cell_type": "code",
   "execution_count": null,
   "metadata": {},
   "outputs": [],
   "source": [
    "import numpy as np\n",
    "\n",
    "def game_core_v3(number: int=1) -> int:\n",
    "    \"\"\"The function guesses a number randomly\n",
    "    Args:\n",
    "        number (int, optional): A number to guess. Defaults to 1.\n",
    "\n",
    "    Returns:\n",
    "        int: the number of tries\n",
    "    \"\"\"\n",
    "    # Check whether the number falls within the acceptable range\n",
    "    if number>100 or number<1:\n",
    "        raise ValueError(\"The number is outside the range!\")\n",
    "\n",
    "    count = 0\n",
    "    # Fix initial value\n",
    "    np.random.seed(1)\n",
    "    # Generate initial random value\n",
    "    predict = np.random.randint(1, 101)\n",
    "    maximum = 100\n",
    "    minimum = 0\n",
    "\n",
    "    # Split the range by 2 until the predicted value is equal to the number\n",
    "    while number != predict:\n",
    "        count += 1\n",
    "        if number > predict:\n",
    "            minimum = predict + 1 \n",
    "            predict = (maximum + minimum) // 2\n",
    "        elif number < predict:\n",
    "            maximum = predict - 1\n",
    "            predict = (maximum + minimum) // 2\n",
    "        else:\n",
    "            break       \n",
    "\n",
    "    return count\n"
   ]
  }
 ],
 "metadata": {
  "language_info": {
   "name": "python"
  },
  "orig_nbformat": 4
 },
 "nbformat": 4,
 "nbformat_minor": 2
}
